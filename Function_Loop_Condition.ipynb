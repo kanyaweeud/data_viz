{
  "nbformat": 4,
  "nbformat_minor": 0,
  "metadata": {
    "colab": {
      "name": "Function_Loop_Condition.ipynb",
      "provenance": [],
      "authorship_tag": "ABX9TyMeOuimsiyjFk9RK0lwHWSz",
      "include_colab_link": true
    },
    "kernelspec": {
      "name": "python3",
      "display_name": "Python 3"
    }
  },
  "cells": [
    {
      "cell_type": "markdown",
      "metadata": {
        "id": "view-in-github",
        "colab_type": "text"
      },
      "source": [
        "<a href=\"https://colab.research.google.com/github/kanyaweeud/data_viz/blob/main/Function_Loop_Condition.ipynb\" target=\"_parent\"><img src=\"https://colab.research.google.com/assets/colab-badge.svg\" alt=\"Open In Colab\"/></a>"
      ]
    },
    {
      "cell_type": "code",
      "metadata": {
        "colab": {
          "base_uri": "https://localhost:8080/"
        },
        "id": "ghDc5saful0B",
        "outputId": "3d244689-357f-4258-d9b3-a3fb6f15d9d7"
      },
      "source": [
        "name = 'กัญญาวีร์'\r\n",
        "surname = 'อุดม'\r\n",
        "ID = '613020610-8'\r\n",
        "\r\n",
        "b= f'ชื่อ {name} นามสกุล {surname} รหัส {ID}'\r\n",
        "print(b)"
      ],
      "execution_count": null,
      "outputs": [
        {
          "output_type": "stream",
          "text": [
            "ชื่อ กัญญาวีร์ นามสกุล อุดม รหัส 613020610-8\n"
          ],
          "name": "stdout"
        }
      ]
    },
    {
      "cell_type": "markdown",
      "metadata": {
        "id": "0gg2BtEXzWwa"
      },
      "source": [
        "# Function"
      ]
    },
    {
      "cell_type": "markdown",
      "metadata": {
        "id": "GJ-p6mKbzZCm"
      },
      "source": [
        "## Function template \r\n",
        "#### ทำหน้าที่รับ input มาประมวณผลออกมาเป็น output\r\n",
        "#### f(x) = y"
      ]
    },
    {
      "cell_type": "markdown",
      "metadata": {
        "id": "3KWftLVXzbao"
      },
      "source": [
        "### def คือการกำหนดฟังก์ชัน"
      ]
    },
    {
      "cell_type": "markdown",
      "metadata": {
        "id": "IWHT8hOTzcOx"
      },
      "source": [
        "\r\n",
        "backtick (`) ==> กด ~ ค้าง, alt - 9>6 (full keyboard with number)\r\n",
        "\r\n",
        "tilde (~)\r\n",
        "\r\n",
        "curly bracket ({ })\r\n",
        "\r\n",
        "square bracket ([ ])"
      ]
    },
    {
      "cell_type": "markdown",
      "metadata": {
        "id": "g1VB2e5vze7Z"
      },
      "source": [
        "```python\r\n",
        "    def function_name(_Input_) :\r\n",
        "        do_something with _Input_ to get _Output_\r\n",
        "        return _Output_\r\n",
        "```"
      ]
    },
    {
      "cell_type": "markdown",
      "metadata": {
        "id": "bksPqLT3zhkh"
      },
      "source": [
        "function มีส่วนสำคัญทั้งหมด 4 ส่วน\r\n",
        "\r\n",
        "1.   บอก python ว่าเราจะเขียนฟังก์ชั่น ชื่ออะไร  ```def function_name():``` (ขาดไม่ได้)\r\n",
        "2.   กำหนดตัวแปรที่จะเป็น input  ```_Input_``` (ขาดได้)\r\n",
        "3.   ส่วนประมวลผล ```do_something with _Input_ to get _Output_``` (ขาดไม่ได้)\r\n",
        "4.   ส่วน output ```return _Output_```(ขาดได้)\r\n",
        "\r\n"
      ]
    },
    {
      "cell_type": "markdown",
      "metadata": {
        "id": "agiY42v5zk9o"
      },
      "source": [
        "#### ตัวอย่างการเขียน normal function\r\n"
      ]
    },
    {
      "cell_type": "code",
      "metadata": {
        "id": "ubaFXvZ_zqN6"
      },
      "source": [
        "def print_name(surname,ID,name):\r\n",
        "    st = f'ชื่อ {name} นามสกุล {surname} รหัส {ID}'\r\n",
        "    return st"
      ],
      "execution_count": null,
      "outputs": []
    },
    {
      "cell_type": "code",
      "metadata": {
        "colab": {
          "base_uri": "https://localhost:8080/",
          "height": 34
        },
        "id": "kCJymf2zzp-g",
        "outputId": "eb748532-edf6-43f2-a64e-ab498c696dc5"
      },
      "source": [
        "print_name('อุดม','613020610-8','กัญญาวีร์')"
      ],
      "execution_count": null,
      "outputs": [
        {
          "output_type": "execute_result",
          "data": {
            "application/vnd.google.colaboratory.intrinsic+json": {
              "type": "string"
            },
            "text/plain": [
              "'ชื่อ กัญญาวีร์ นามสกุล อุดม รหัส 613020610-8'"
            ]
          },
          "metadata": {
            "tags": []
          },
          "execution_count": 3
        }
      ]
    },
    {
      "cell_type": "code",
      "metadata": {
        "colab": {
          "base_uri": "https://localhost:8080/"
        },
        "id": "MhyYyjb1z5AY",
        "outputId": "e4f9f847-c6dc-45a8-eba0-c1f9a80c53bb"
      },
      "source": [
        "print(print_name(name='กัญญาวีร์',surname='อุดม',ID='613020610-8'))"
      ],
      "execution_count": null,
      "outputs": [
        {
          "output_type": "stream",
          "text": [
            "ชื่อ กัญญาวีร์ นามสกุล อุดม รหัส 613020610-8\n"
          ],
          "name": "stdout"
        }
      ]
    },
    {
      "cell_type": "markdown",
      "metadata": {
        "id": "bI1GeYg9zpTA"
      },
      "source": [
        "เราใช้ เว้นวรรค (indent) เพื่อบอกขอบเขตของโปรแกรม "
      ]
    },
    {
      "cell_type": "markdown",
      "metadata": {
        "id": "ZtZaa56q0LCi"
      },
      "source": [
        "ฟังก์ชั่นไม่จำเป็นต้องมี output"
      ]
    },
    {
      "cell_type": "code",
      "metadata": {
        "id": "jiw5ZYH60Itg"
      },
      "source": [
        "def print_name2(surname,ID,name):\r\n",
        "    st = f'ชื่อ {name} นามสกุล {surname} รหัส {ID}'\r\n",
        "    print(st)"
      ],
      "execution_count": null,
      "outputs": []
    },
    {
      "cell_type": "code",
      "metadata": {
        "colab": {
          "base_uri": "https://localhost:8080/"
        },
        "id": "8cvO69z40Qwk",
        "outputId": "71a2da0e-2d32-4bd7-e083-448d308bcc83"
      },
      "source": [
        "print_name2(name='กัญญาวีร์',surname='อุดม',ID='613020610-8')"
      ],
      "execution_count": null,
      "outputs": [
        {
          "output_type": "stream",
          "text": [
            "ชื่อ กัญญาวีร์ นามสกุล อุดม รหัส 613020610-8\n"
          ],
          "name": "stdout"
        }
      ]
    },
    {
      "cell_type": "markdown",
      "metadata": {
        "id": "kDAZXwlD0qFx"
      },
      "source": [
        "ฟังก์ชั่นไม่จำเป็นต้องมี input"
      ]
    },
    {
      "cell_type": "code",
      "metadata": {
        "id": "neqiF7Ka0q9J"
      },
      "source": [
        "def Pi():\r\n",
        "    return 3.14159265359"
      ],
      "execution_count": null,
      "outputs": []
    },
    {
      "cell_type": "code",
      "metadata": {
        "colab": {
          "base_uri": "https://localhost:8080/"
        },
        "id": "cXos0GdO0rW4",
        "outputId": "b7c0886a-9b07-46e5-83d8-9a48ffe8e976"
      },
      "source": [
        "Pi()*(2**2) # หาพื้นที่ของวงกลมที่มีรัศมีเท่ากับ Pi * r^2"
      ],
      "execution_count": null,
      "outputs": [
        {
          "output_type": "execute_result",
          "data": {
            "text/plain": [
              "12.56637061436"
            ]
          },
          "metadata": {
            "tags": []
          },
          "execution_count": 9
        }
      ]
    },
    {
      "cell_type": "markdown",
      "metadata": {
        "id": "eBon4Vld0yah"
      },
      "source": [
        "## เราสามารถกำหนดค่า default ให้กับฟังก์ชั่นได้"
      ]
    },
    {
      "cell_type": "markdown",
      "metadata": {
        "id": "zmW3PNlI0zUk"
      },
      "source": [
        "input ของ function ใน python มีสองแบบ input ที่จำเป็นต้องใส่ กับ input ที่ไม่จำเป็นต้องใส่ (มีค่า default)\r\n",
        "\r\n",
        "เราต้องเรียง input ที่จำเป็นต้องใส่ขึ้นก่อน"
      ]
    },
    {
      "cell_type": "code",
      "metadata": {
        "id": "IhqOwFNq02S5"
      },
      "source": [
        "def print_2lines_default(name,surname,ID,grade='F'):\r\n",
        "    st = f'ชื่อ {name} นามสกุล {surname} รหัส {ID}'\r\n",
        "    print (st)\r\n",
        "    st2=f'เกรดวิชา Data Viz >>> {grade}'\r\n",
        "    print(st2)"
      ],
      "execution_count": null,
      "outputs": []
    },
    {
      "cell_type": "code",
      "metadata": {
        "colab": {
          "base_uri": "https://localhost:8080/"
        },
        "id": "x4FK_A-c04Zp",
        "outputId": "bc2dfca7-e703-4c10-f88b-f6579164296c"
      },
      "source": [
        "print_2lines_default('กัญญาวีร์','อุดม','613020610-8')"
      ],
      "execution_count": null,
      "outputs": [
        {
          "output_type": "stream",
          "text": [
            "ชื่อ กัญญาวีร์ นามสกุล อุดม รหัส 613020610-8\n",
            "เกรดวิชา Data Viz >>> F\n"
          ],
          "name": "stdout"
        }
      ]
    },
    {
      "cell_type": "code",
      "metadata": {
        "colab": {
          "base_uri": "https://localhost:8080/"
        },
        "id": "zXOoU4AJ1IlG",
        "outputId": "47738b8d-3829-49ad-a7d2-415a9ee0d820"
      },
      "source": [
        "print_2lines_default('กัญญาวีร์','อุดม','613020610-8','A')"
      ],
      "execution_count": null,
      "outputs": [
        {
          "output_type": "stream",
          "text": [
            "ชื่อ กัญญาวีร์ นามสกุล อุดม รหัส 613020610-8\n",
            "เกรดวิชา Data Viz >>> A\n"
          ],
          "name": "stdout"
        }
      ]
    },
    {
      "cell_type": "markdown",
      "metadata": {
        "id": "bQhXMoOO1hfH"
      },
      "source": [
        "# LOOP การวนซ้ำ"
      ]
    },
    {
      "cell_type": "markdown",
      "metadata": {
        "id": "rm2T10Hl1kLs"
      },
      "source": [
        "for เป็นคำที่ใช้บอก python ว่าเรากำลังเขียน loop\r\n",
        "โดย for จะวนดึงสมาชิกจาก ```listA``` มาทำ process ```do_something```"
      ]
    },
    {
      "cell_type": "markdown",
      "metadata": {
        "id": "GnxgNl_51nFo"
      },
      "source": [
        "```python\r\n",
        "    for each_member in listA :\r\n",
        "        do_something\r\n",
        "```"
      ]
    },
    {
      "cell_type": "markdown",
      "metadata": {
        "id": "4pS2EmA11p5Z"
      },
      "source": [
        "#### คำสั่ง for เป็นคำสั่งวนซ้ำที่ใช้ควบคุมการทำงานซ้ำๆ ในจำนวนรอบที่แน่นอน"
      ]
    },
    {
      "cell_type": "code",
      "metadata": {
        "colab": {
          "base_uri": "https://localhost:8080/"
        },
        "id": "PEyRcpiw1q8F",
        "outputId": "1064bc65-9384-4aa8-e892-eea73f83b2b4"
      },
      "source": [
        "for i in [1,2,3] :\r\n",
        "    o = i**2\r\n",
        "    print (f'this member = {i} after process = {o}')"
      ],
      "execution_count": null,
      "outputs": [
        {
          "output_type": "stream",
          "text": [
            "this member = 1 after process = 1\n",
            "this member = 2 after process = 4\n",
            "this member = 3 after process = 9\n"
          ],
          "name": "stdout"
        }
      ]
    },
    {
      "cell_type": "markdown",
      "metadata": {
        "id": "3jFoCEr_tiO2"
      },
      "source": [
        "#### ตัวอย่างการใช้คำสั่ง for ในการวนซ้ำค่าของ i เมื่อ i คือ 'Thanapong' และคำสั่ง print(f'{i} -> /') เพื่อกำหนดให้ผลลัพธ์แสดงสัญลักษณ์ -> /  จากนั้นเพิ่มคำสั่ง print(' ') อีกครั้งเพื่อให้ผลลัพธ์มีการเว้นวรรค¶ "
      ]
    },
    {
      "cell_type": "code",
      "metadata": {
        "id": "Iwf28TLxtxCw",
        "colab": {
          "base_uri": "https://localhost:8080/"
        },
        "outputId": "0d0c539e-2a59-4b57-9071-2185511d96cc"
      },
      "source": [
        "for i in 'Thanapong':\r\n",
        "    print(f'{i} -> / ' )"
      ],
      "execution_count": null,
      "outputs": [
        {
          "output_type": "stream",
          "text": [
            "T -> / \n",
            "h -> / \n",
            "a -> / \n",
            "n -> / \n",
            "a -> / \n",
            "p -> / \n",
            "o -> / \n",
            "n -> / \n",
            "g -> / \n"
          ],
          "name": "stdout"
        }
      ]
    },
    {
      "cell_type": "code",
      "metadata": {
        "id": "uudmxAPUt_xx",
        "colab": {
          "base_uri": "https://localhost:8080/"
        },
        "outputId": "34310c2a-d0ba-4a47-a1bc-bb7ff9256672"
      },
      "source": [
        "for i in 'Thanapong':\r\n",
        "    print(f'{i} -> / ' ,end = '') #สั่งให้ print แบบ ไม่เว้นบรรทัด"
      ],
      "execution_count": null,
      "outputs": [
        {
          "output_type": "stream",
          "text": [
            "T -> / h -> / a -> / n -> / a -> / p -> / o -> / n -> / g -> / "
          ],
          "name": "stdout"
        }
      ]
    },
    {
      "cell_type": "code",
      "metadata": {
        "id": "NpHikcLBuD6X",
        "colab": {
          "base_uri": "https://localhost:8080/"
        },
        "outputId": "2fb714ad-a631-4fbb-f9aa-3fb3f81082d7"
      },
      "source": [
        "for i in 'Thanapong':\r\n",
        "    print(f'{i} -> / ' ,end = ',') #สั่งให้ print แบบ ไม่เว้นบรรทัด"
      ],
      "execution_count": null,
      "outputs": [
        {
          "output_type": "stream",
          "text": [
            "T -> / ,h -> / ,a -> / ,n -> / ,a -> / ,p -> / ,o -> / ,n -> / ,g -> / ,"
          ],
          "name": "stdout"
        }
      ]
    },
    {
      "cell_type": "markdown",
      "metadata": {
        "id": "e1NOC4iRuMQp"
      },
      "source": [
        "## สร้าง list ตัวเลขแบบอัตโนมัติ  range() "
      ]
    },
    {
      "cell_type": "code",
      "metadata": {
        "id": "fpm64J_RuNMg",
        "colab": {
          "base_uri": "https://localhost:8080/"
        },
        "outputId": "a5891c5b-f6d6-4576-b7cc-8c3bd5dd5749"
      },
      "source": [
        "range5_output = range(5)\r\n",
        "print(list(range5_output))"
      ],
      "execution_count": null,
      "outputs": [
        {
          "output_type": "stream",
          "text": [
            "[0, 1, 2, 3, 4]\n"
          ],
          "name": "stdout"
        }
      ]
    },
    {
      "cell_type": "code",
      "metadata": {
        "id": "SujzJCITuP1r",
        "colab": {
          "base_uri": "https://localhost:8080/"
        },
        "outputId": "0abea726-3b60-4290-adb2-58ba83f203c2"
      },
      "source": [
        "for i in range(100):\r\n",
        "    print('งง',end=' ')"
      ],
      "execution_count": null,
      "outputs": [
        {
          "output_type": "stream",
          "text": [
            "งง งง งง งง งง งง งง งง งง งง งง งง งง งง งง งง งง งง งง งง งง งง งง งง งง งง งง งง งง งง งง งง งง งง งง งง งง งง งง งง งง งง งง งง งง งง งง งง งง งง งง งง งง งง งง งง งง งง งง งง งง งง งง งง งง งง งง งง งง งง งง งง งง งง งง งง งง งง งง งง งง งง งง งง งง งง งง งง งง งง งง งง งง งง งง งง งง งง งง งง "
          ],
          "name": "stdout"
        }
      ]
    },
    {
      "cell_type": "code",
      "metadata": {
        "id": "UX3PeUftuSBa",
        "colab": {
          "base_uri": "https://localhost:8080/"
        },
        "outputId": "b7e664aa-4879-4b4c-a15a-20870705314a"
      },
      "source": [
        "list(range(1,11)) #เริ่มต้นเป็นวงทึบ จบเป็นวงกลมโปร่ง เหมือน list slicing"
      ],
      "execution_count": null,
      "outputs": [
        {
          "output_type": "execute_result",
          "data": {
            "text/plain": [
              "[1, 2, 3, 4, 5, 6, 7, 8, 9, 10]"
            ]
          },
          "metadata": {
            "tags": []
          },
          "execution_count": 6
        }
      ]
    },
    {
      "cell_type": "code",
      "metadata": {
        "id": "QBWeCRNSuTld",
        "colab": {
          "base_uri": "https://localhost:8080/"
        },
        "outputId": "b30459fa-8a5a-4b07-ee1b-20c22bbe4f5f"
      },
      "source": [
        "list(range(-3,20,4))"
      ],
      "execution_count": null,
      "outputs": [
        {
          "output_type": "execute_result",
          "data": {
            "text/plain": [
              "[-3, 1, 5, 9, 13, 17]"
            ]
          },
          "metadata": {
            "tags": []
          },
          "execution_count": 7
        }
      ]
    },
    {
      "cell_type": "markdown",
      "metadata": {
        "id": "233hGKzyuzEK"
      },
      "source": [
        "### loop in loop\r\n",
        "#### สามารถใช้ for loop ซ้อนกันสองรอบได้¶"
      ]
    },
    {
      "cell_type": "code",
      "metadata": {
        "id": "f2Sh0FBwuY9h",
        "colab": {
          "base_uri": "https://localhost:8080/"
        },
        "outputId": "29499f20-ad10-47c3-b5bf-13b6c5ec9e3f"
      },
      "source": [
        "for name1 in  range(2,5): #(2, 3, 4)\r\n",
        "    print(f'now name1 = {name1}')\r\n",
        "    for name2 in  range(1,13):\r\n",
        "        print(name1,' x ',name2,' = ',name1*name2)\r\n",
        "    print('the inner loop is end')"
      ],
      "execution_count": null,
      "outputs": [
        {
          "output_type": "stream",
          "text": [
            "now name1 = 2\n",
            "2  x  1  =  2\n",
            "2  x  2  =  4\n",
            "2  x  3  =  6\n",
            "2  x  4  =  8\n",
            "2  x  5  =  10\n",
            "2  x  6  =  12\n",
            "2  x  7  =  14\n",
            "2  x  8  =  16\n",
            "2  x  9  =  18\n",
            "2  x  10  =  20\n",
            "2  x  11  =  22\n",
            "2  x  12  =  24\n",
            "the inner loop is end\n",
            "now name1 = 3\n",
            "3  x  1  =  3\n",
            "3  x  2  =  6\n",
            "3  x  3  =  9\n",
            "3  x  4  =  12\n",
            "3  x  5  =  15\n",
            "3  x  6  =  18\n",
            "3  x  7  =  21\n",
            "3  x  8  =  24\n",
            "3  x  9  =  27\n",
            "3  x  10  =  30\n",
            "3  x  11  =  33\n",
            "3  x  12  =  36\n",
            "the inner loop is end\n",
            "now name1 = 4\n",
            "4  x  1  =  4\n",
            "4  x  2  =  8\n",
            "4  x  3  =  12\n",
            "4  x  4  =  16\n",
            "4  x  5  =  20\n",
            "4  x  6  =  24\n",
            "4  x  7  =  28\n",
            "4  x  8  =  32\n",
            "4  x  9  =  36\n",
            "4  x  10  =  40\n",
            "4  x  11  =  44\n",
            "4  x  12  =  48\n",
            "the inner loop is end\n"
          ],
          "name": "stdout"
        }
      ]
    },
    {
      "cell_type": "markdown",
      "metadata": {
        "id": "NqSNSBAEu31b"
      },
      "source": [
        "### loop in function\r\n",
        "#### การวนลูปในฟังก์ชั่น¶"
      ]
    },
    {
      "cell_type": "code",
      "metadata": {
        "id": "36RkKIJ_u56c"
      },
      "source": [
        "def print_feelings(I,friendS,feeling = 'คิดถึง'):\r\n",
        "    for friend in friendS:\r\n",
        "        print(f'{I} {feeling} {friend}')"
      ],
      "execution_count": null,
      "outputs": []
    },
    {
      "cell_type": "code",
      "metadata": {
        "id": "jtY2yF0tu7wX"
      },
      "source": [
        "list_friends = ['พี่บูม','ดายน์','แตงโม','ฝน','พี่เจ็ท','น้องแคมป์']"
      ],
      "execution_count": null,
      "outputs": []
    },
    {
      "cell_type": "code",
      "metadata": {
        "id": "S2blitXcu-DP",
        "colab": {
          "base_uri": "https://localhost:8080/"
        },
        "outputId": "0750e0e1-7ba8-4acb-a490-b68d5948efc1"
      },
      "source": [
        "print_feelings('เจมส์',list_friends)"
      ],
      "execution_count": null,
      "outputs": [
        {
          "output_type": "stream",
          "text": [
            "เจมส์ คิดถึง พี่บูม\n",
            "เจมส์ คิดถึง ดายน์\n",
            "เจมส์ คิดถึง แตงโม\n",
            "เจมส์ คิดถึง ฝน\n",
            "เจมส์ คิดถึง พี่เจ็ท\n",
            "เจมส์ คิดถึง น้องแคมป์\n"
          ],
          "name": "stdout"
        }
      ]
    },
    {
      "cell_type": "code",
      "metadata": {
        "id": "zBZkNa7wu_IA",
        "colab": {
          "base_uri": "https://localhost:8080/"
        },
        "outputId": "09682230-ec50-4847-81a4-cf01d540eae8"
      },
      "source": [
        "print_feelings('เจมส์',list_friends,feeling='รัก')"
      ],
      "execution_count": null,
      "outputs": [
        {
          "output_type": "stream",
          "text": [
            "เจมส์ รัก พี่บูม\n",
            "เจมส์ รัก ดายน์\n",
            "เจมส์ รัก แตงโม\n",
            "เจมส์ รัก ฝน\n",
            "เจมส์ รัก พี่เจ็ท\n",
            "เจมส์ รัก น้องแคมป์\n"
          ],
          "name": "stdout"
        }
      ]
    },
    {
      "cell_type": "markdown",
      "metadata": {
        "id": "j_sqL6ktvGFs"
      },
      "source": [
        "### looping in dict\r\n",
        "#### ทำการวนลูปในค่า dict โดยที่เรากำหนดตัว key และvalueขึ้นมา ได้ดังนี้\r\n"
      ]
    },
    {
      "cell_type": "code",
      "metadata": {
        "id": "95FHhsi7vH5X",
        "colab": {
          "base_uri": "https://localhost:8080/"
        },
        "outputId": "e5b9489e-bd65-457a-9c75-214635258702"
      },
      "source": [
        "name_grade = {'พันทิพา' : 'B','ศุภนิตา' : 'C','ปนัดดา' : 'A','ทรงกลด' : 'F'}\r\n",
        "name_grade "
      ],
      "execution_count": null,
      "outputs": [
        {
          "output_type": "execute_result",
          "data": {
            "text/plain": [
              "{'ทรงกลด': 'F', 'ปนัดดา': 'A', 'พันทิพา': 'B', 'ศุภนิตา': 'C'}"
            ]
          },
          "metadata": {
            "tags": []
          },
          "execution_count": 13
        }
      ]
    },
    {
      "cell_type": "code",
      "metadata": {
        "id": "KwNGtZotvJMS",
        "colab": {
          "base_uri": "https://localhost:8080/",
          "height": 35
        },
        "outputId": "086ec014-fda7-4ab9-8ea9-0d89bf20b879"
      },
      "source": [
        "name_grade['ปนัดดา']"
      ],
      "execution_count": null,
      "outputs": [
        {
          "output_type": "execute_result",
          "data": {
            "application/vnd.google.colaboratory.intrinsic+json": {
              "type": "string"
            },
            "text/plain": [
              "'A'"
            ]
          },
          "metadata": {
            "tags": []
          },
          "execution_count": 14
        }
      ]
    },
    {
      "cell_type": "code",
      "metadata": {
        "id": "uDjLDj7NvKbb",
        "colab": {
          "base_uri": "https://localhost:8080/"
        },
        "outputId": "dfefb36d-372f-4156-e296-3082ee7b29a6"
      },
      "source": [
        "for i in name_grade.keys():\r\n",
        "    print(i)"
      ],
      "execution_count": null,
      "outputs": [
        {
          "output_type": "stream",
          "text": [
            "พันทิพา\n",
            "ศุภนิตา\n",
            "ปนัดดา\n",
            "ทรงกลด\n"
          ],
          "name": "stdout"
        }
      ]
    },
    {
      "cell_type": "code",
      "metadata": {
        "id": "oKYJ8riYvQmI",
        "colab": {
          "base_uri": "https://localhost:8080/"
        },
        "outputId": "55f80596-506f-4b42-d1e7-1f6dba01e022"
      },
      "source": [
        "name_grade.keys()"
      ],
      "execution_count": null,
      "outputs": [
        {
          "output_type": "execute_result",
          "data": {
            "text/plain": [
              "dict_keys(['พันทิพา', 'ศุภนิตา', 'ปนัดดา', 'ทรงกลด'])"
            ]
          },
          "metadata": {
            "tags": []
          },
          "execution_count": 16
        }
      ]
    },
    {
      "cell_type": "code",
      "metadata": {
        "id": "K1hCSMusvSpx",
        "colab": {
          "base_uri": "https://localhost:8080/"
        },
        "outputId": "6f91c57d-d6e8-42f2-c136-22268b785a30"
      },
      "source": [
        "for i in name_grade.keys():\r\n",
        "    print(f'{i} ได้เกรด {name_grade[i]}')"
      ],
      "execution_count": null,
      "outputs": [
        {
          "output_type": "stream",
          "text": [
            "พันทิพา ได้เกรด B\n",
            "ศุภนิตา ได้เกรด C\n",
            "ปนัดดา ได้เกรด A\n",
            "ทรงกลด ได้เกรด F\n"
          ],
          "name": "stdout"
        }
      ]
    },
    {
      "cell_type": "markdown",
      "metadata": {
        "id": "3u1cqXfrvWP6"
      },
      "source": [
        "### conditional คือ เงื่อนไข /ประโยคเงื่อนไข"
      ]
    },
    {
      "cell_type": "markdown",
      "metadata": {
        "id": "1tiH5uYPvY0p"
      },
      "source": [
        "##### True / False\r\n",
        "##### การวนลูปโดยมีเงื่อนไขต่างๆมาเกี่ยวข้อง โดยมี pattern ดังนี้\r\n"
      ]
    },
    {
      "cell_type": "markdown",
      "metadata": {
        "id": "bw6JKjhIvb5r"
      },
      "source": [
        "```Python\r\n",
        "if condition1 :\r\n",
        "    do something\r\n",
        "elif condition2 :  #elif คือ else if\r\n",
        "    do another thing\r\n",
        "else:\r\n",
        "    do ...\r\n",
        "```\r\n",
        "    "
      ]
    },
    {
      "cell_type": "code",
      "metadata": {
        "id": "oOj9w19SvVAA"
      },
      "source": [
        "print(list_friends)"
      ],
      "execution_count": null,
      "outputs": []
    },
    {
      "cell_type": "code",
      "metadata": {
        "id": "kPmVJAlovgfM",
        "colab": {
          "base_uri": "https://localhost:8080/"
        },
        "outputId": "7d818204-dc7a-4c23-ef98-fe60baf641af"
      },
      "source": [
        "for name1 in list_friends :\r\n",
        "    for name2 in list_friends :\r\n",
        "            print(name1,'รัก',name2)"
      ],
      "execution_count": null,
      "outputs": [
        {
          "output_type": "stream",
          "text": [
            "พี่บูม รัก พี่บูม\n",
            "พี่บูม รัก ดายน์\n",
            "พี่บูม รัก แตงโม\n",
            "พี่บูม รัก ฝน\n",
            "พี่บูม รัก พี่เจ็ท\n",
            "พี่บูม รัก น้องแคมป์\n",
            "ดายน์ รัก พี่บูม\n",
            "ดายน์ รัก ดายน์\n",
            "ดายน์ รัก แตงโม\n",
            "ดายน์ รัก ฝน\n",
            "ดายน์ รัก พี่เจ็ท\n",
            "ดายน์ รัก น้องแคมป์\n",
            "แตงโม รัก พี่บูม\n",
            "แตงโม รัก ดายน์\n",
            "แตงโม รัก แตงโม\n",
            "แตงโม รัก ฝน\n",
            "แตงโม รัก พี่เจ็ท\n",
            "แตงโม รัก น้องแคมป์\n",
            "ฝน รัก พี่บูม\n",
            "ฝน รัก ดายน์\n",
            "ฝน รัก แตงโม\n",
            "ฝน รัก ฝน\n",
            "ฝน รัก พี่เจ็ท\n",
            "ฝน รัก น้องแคมป์\n",
            "พี่เจ็ท รัก พี่บูม\n",
            "พี่เจ็ท รัก ดายน์\n",
            "พี่เจ็ท รัก แตงโม\n",
            "พี่เจ็ท รัก ฝน\n",
            "พี่เจ็ท รัก พี่เจ็ท\n",
            "พี่เจ็ท รัก น้องแคมป์\n",
            "น้องแคมป์ รัก พี่บูม\n",
            "น้องแคมป์ รัก ดายน์\n",
            "น้องแคมป์ รัก แตงโม\n",
            "น้องแคมป์ รัก ฝน\n",
            "น้องแคมป์ รัก พี่เจ็ท\n",
            "น้องแคมป์ รัก น้องแคมป์\n"
          ],
          "name": "stdout"
        }
      ]
    },
    {
      "cell_type": "code",
      "metadata": {
        "id": "-91zGHXfvmFY",
        "colab": {
          "base_uri": "https://localhost:8080/"
        },
        "outputId": "64c70a7d-d32d-462f-bf9c-8b0a53d80817"
      },
      "source": [
        "for name1 in list_friends:\r\n",
        "    for name2 in list_friends:\r\n",
        "        if name1 != name2: #ไม่ปริ้นชื่อคนเดียวกันซ้ำ\r\n",
        "            print(name1,'รัก',name2)"
      ],
      "execution_count": null,
      "outputs": [
        {
          "output_type": "stream",
          "text": [
            "พี่บูม รัก ดายน์\n",
            "พี่บูม รัก แตงโม\n",
            "พี่บูม รัก ฝน\n",
            "พี่บูม รัก พี่เจ็ท\n",
            "พี่บูม รัก น้องแคมป์\n",
            "ดายน์ รัก พี่บูม\n",
            "ดายน์ รัก แตงโม\n",
            "ดายน์ รัก ฝน\n",
            "ดายน์ รัก พี่เจ็ท\n",
            "ดายน์ รัก น้องแคมป์\n",
            "แตงโม รัก พี่บูม\n",
            "แตงโม รัก ดายน์\n",
            "แตงโม รัก ฝน\n",
            "แตงโม รัก พี่เจ็ท\n",
            "แตงโม รัก น้องแคมป์\n",
            "ฝน รัก พี่บูม\n",
            "ฝน รัก ดายน์\n",
            "ฝน รัก แตงโม\n",
            "ฝน รัก พี่เจ็ท\n",
            "ฝน รัก น้องแคมป์\n",
            "พี่เจ็ท รัก พี่บูม\n",
            "พี่เจ็ท รัก ดายน์\n",
            "พี่เจ็ท รัก แตงโม\n",
            "พี่เจ็ท รัก ฝน\n",
            "พี่เจ็ท รัก น้องแคมป์\n",
            "น้องแคมป์ รัก พี่บูม\n",
            "น้องแคมป์ รัก ดายน์\n",
            "น้องแคมป์ รัก แตงโม\n",
            "น้องแคมป์ รัก ฝน\n",
            "น้องแคมป์ รัก พี่เจ็ท\n"
          ],
          "name": "stdout"
        }
      ]
    },
    {
      "cell_type": "code",
      "metadata": {
        "id": "ZZk14keVvoK6",
        "colab": {
          "base_uri": "https://localhost:8080/"
        },
        "outputId": "1ba17138-7ba2-4443-f0a5-d3219ddb9eb7"
      },
      "source": [
        "for name1 in list_friends:\r\n",
        "    for name2 in list_friends:\r\n",
        "        if name1 == name2: #ปริ้นชื่อคนเดียวกันซ้ำ\r\n",
        "            print(name1,'รัก',name2)"
      ],
      "execution_count": null,
      "outputs": [
        {
          "output_type": "stream",
          "text": [
            "พี่บูม รัก พี่บูม\n",
            "ดายน์ รัก ดายน์\n",
            "แตงโม รัก แตงโม\n",
            "ฝน รัก ฝน\n",
            "พี่เจ็ท รัก พี่เจ็ท\n",
            "น้องแคมป์ รัก น้องแคมป์\n"
          ],
          "name": "stdout"
        }
      ]
    },
    {
      "cell_type": "code",
      "metadata": {
        "id": "ituKx-s4vqHH",
        "colab": {
          "base_uri": "https://localhost:8080/"
        },
        "outputId": "24d46e56-0599-4342-ae37-5837e00a6b96"
      },
      "source": [
        "for name1 in list_friends:\r\n",
        "    for name2 in list_friends:\r\n",
        "        if name1 == name2: \r\n",
        "            'do nothing'\r\n",
        "        else:\r\n",
        "            print(name1,'รัก',name2)"
      ],
      "execution_count": null,
      "outputs": [
        {
          "output_type": "stream",
          "text": [
            "พี่บูม รัก ดายน์\n",
            "พี่บูม รัก แตงโม\n",
            "พี่บูม รัก ฝน\n",
            "พี่บูม รัก พี่เจ็ท\n",
            "พี่บูม รัก น้องแคมป์\n",
            "ดายน์ รัก พี่บูม\n",
            "ดายน์ รัก แตงโม\n",
            "ดายน์ รัก ฝน\n",
            "ดายน์ รัก พี่เจ็ท\n",
            "ดายน์ รัก น้องแคมป์\n",
            "แตงโม รัก พี่บูม\n",
            "แตงโม รัก ดายน์\n",
            "แตงโม รัก ฝน\n",
            "แตงโม รัก พี่เจ็ท\n",
            "แตงโม รัก น้องแคมป์\n",
            "ฝน รัก พี่บูม\n",
            "ฝน รัก ดายน์\n",
            "ฝน รัก แตงโม\n",
            "ฝน รัก พี่เจ็ท\n",
            "ฝน รัก น้องแคมป์\n",
            "พี่เจ็ท รัก พี่บูม\n",
            "พี่เจ็ท รัก ดายน์\n",
            "พี่เจ็ท รัก แตงโม\n",
            "พี่เจ็ท รัก ฝน\n",
            "พี่เจ็ท รัก น้องแคมป์\n",
            "น้องแคมป์ รัก พี่บูม\n",
            "น้องแคมป์ รัก ดายน์\n",
            "น้องแคมป์ รัก แตงโม\n",
            "น้องแคมป์ รัก ฝน\n",
            "น้องแคมป์ รัก พี่เจ็ท\n"
          ],
          "name": "stdout"
        }
      ]
    },
    {
      "cell_type": "markdown",
      "metadata": {
        "id": "GYeVoxx3vtGW"
      },
      "source": [
        "#### ==, !=,>=,<=,<,>"
      ]
    },
    {
      "cell_type": "code",
      "metadata": {
        "id": "uu0mzz0rvvCK",
        "colab": {
          "base_uri": "https://localhost:8080/"
        },
        "outputId": "8a85d025-9079-4783-904a-a12b1acbc3ed"
      },
      "source": [
        "'พี่บูม' == 'พี่เจ็ท'"
      ],
      "execution_count": null,
      "outputs": [
        {
          "output_type": "execute_result",
          "data": {
            "text/plain": [
              "False"
            ]
          },
          "metadata": {
            "tags": []
          },
          "execution_count": 23
        }
      ]
    },
    {
      "cell_type": "code",
      "metadata": {
        "id": "2gRi5THgvxCg",
        "colab": {
          "base_uri": "https://localhost:8080/"
        },
        "outputId": "91ce1d0d-897e-47f1-f78d-e8e9cbe70488"
      },
      "source": [
        "'พี่บูม' != 'พี่เจ็ท'"
      ],
      "execution_count": null,
      "outputs": [
        {
          "output_type": "execute_result",
          "data": {
            "text/plain": [
              "True"
            ]
          },
          "metadata": {
            "tags": []
          },
          "execution_count": 24
        }
      ]
    },
    {
      "cell_type": "markdown",
      "metadata": {
        "id": "Q2dX1ZX5vuj6"
      },
      "source": [
        "#### หากหลังเงื่อนไข True ถูกต้องจะทำการ print ข้อความออกมาว่า Yes"
      ]
    },
    {
      "cell_type": "code",
      "metadata": {
        "id": "81pQb8Slv1OT",
        "colab": {
          "base_uri": "https://localhost:8080/"
        },
        "outputId": "20a56f56-710a-4dd4-e4de-d271499ae22f"
      },
      "source": [
        "if True:\r\n",
        "    print('Yes')"
      ],
      "execution_count": null,
      "outputs": [
        {
          "output_type": "stream",
          "text": [
            "Yes\n"
          ],
          "name": "stdout"
        }
      ]
    },
    {
      "cell_type": "code",
      "metadata": {
        "id": "f-DKqqKAv1zy"
      },
      "source": [
        "if False:\r\n",
        "    print('No')"
      ],
      "execution_count": null,
      "outputs": []
    },
    {
      "cell_type": "markdown",
      "metadata": {
        "id": "7a3kfvwyv5J_"
      },
      "source": [
        "#### หากหลังเงื่อนไข False ไม่ถูกต้องจะไม่ปริ้นข้อความใดๆออกมา\r\n",
        "#### ซึ่งจะต้องใช้เงื่อนไขนี้ จึงจะได้ปริ้นค่าเงื่อนไขนั้นออกมา ดังนี้"
      ]
    },
    {
      "cell_type": "code",
      "metadata": {
        "id": "D3pD3qILv7jQ",
        "colab": {
          "base_uri": "https://localhost:8080/"
        },
        "outputId": "3ce957b7-a3dd-4464-df72-a5b9f2db7809"
      },
      "source": [
        "if False:\r\n",
        "    print('Yes')\r\n",
        "else:\r\n",
        "    print('No')"
      ],
      "execution_count": null,
      "outputs": [
        {
          "output_type": "stream",
          "text": [
            "No\n"
          ],
          "name": "stdout"
        }
      ]
    },
    {
      "cell_type": "markdown",
      "metadata": {
        "id": "HhDz3KaxwASW"
      },
      "source": [
        "# HW\r\n",
        "#### เขียน function ตัดเกรด โดยที่ input เป็นคะแนน(0-100) , output เป็นเกรด (F-A)\r\n",
        "#### วนลูปตัดเกรด input = [1,50,65,90,101,-5,49]"
      ]
    },
    {
      "cell_type": "markdown",
      "metadata": {
        "id": "MDjYI7XVwDqk"
      },
      "source": [
        "##### กำหนด\r\n",
        "      ถ้าคะแนนอยู่ระหว่างมากกว่าหรือเท่ากับ  0  แต่น้อยกว่า 50 จะได้เกรด F\r\n",
        "      ถ้าคะแนนอยู่ระหว่างมากกว่าหรือเท่ากับ 50 แต่น้อยกว่า 55 จะได้เกรด D\r\n",
        "      ถ้าคะแนนอยู่ระหว่างมากกว่าหรือเท่ากับ 55 แต่น้อยกว่า 60 จะได้เกรด D+\r\n",
        "      ถ้าคะแนนอยู่ระหว่างมากกว่าหรือเท่ากับ 60 แต่น้อยกว่า 65 จะได้เกรด C\r\n",
        "      ถ้าคะแนนอยู่ระหว่างมากกว่าหรือเท่ากับ 65 แต่น้อยกว่า 70 จะได้เกรด C+\r\n",
        "      ถ้าคะแนนอยู่ระหว่างมากกว่าหรือเท่ากับ 70 แต่น้อยกว่า 75 จะได้เกรด B\r\n",
        "      ถ้าคะแนนอยู่ระหว่างมากกว่าหรือเท่ากับ 75 แต่น้อยกว่า 80 จะได้เกรด B+\r\n",
        "      ถ้าคะแนนอยู่ระหว่างมากกว่าหรือเท่ากับ 80  จะได้เกรด A\r\n",
        "      แต่ว่าค่าคะแนนจะต้องไม่ต่ำกว่า 0 และมากกว่า 100 ไม่งั้นจะเกิด error"
      ]
    },
    {
      "cell_type": "code",
      "metadata": {
        "id": "CC3VjYQmwBWY"
      },
      "source": [
        "def grade(score):\r\n",
        "  if score < 0 :\r\n",
        "    print(f'error ค่าคะแนนต่ำกว่า 0')\r\n",
        "  if score >= 0 and score < 50:\r\n",
        "    print(f'นักศึกษามีคะแนนเท่ากับ {score} คะแนน  ได้เกรด F')\r\n",
        "  if score >= 50 and score < 55:\r\n",
        "    print(f'นักศึกษามีคะแนนเท่ากับ {score} คะแนน  ได้เกรด D')\r\n",
        "  if score >= 55 and score < 60:\r\n",
        "    print(f'นักศึกษามีคะแนนเท่ากับ {score} คะแนน  ได้เกรด D+')\r\n",
        "  if score >= 60 and score < 65:\r\n",
        "    print(f'นักศึกษามีคะแนนเท่ากับ {score} คะแนน  ได้เกรด C')\r\n",
        "  if score >= 65 and score < 70:\r\n",
        "    print(f'นักศึกษามีคะแนนเท่ากับ {score} คะแนน  ได้เกรด C+')\r\n",
        "  if score >= 70 and score < 75:\r\n",
        "    print(f'นักศึกษามีคะแนนเท่ากับ {score} คะแนน  ได้เกรด B')\r\n",
        "  if score >= 75 and score < 80:\r\n",
        "    print(f'นักศึกษามีคะแนนเท่ากับ {score} คะแนน  ได้เกรด B+')\r\n",
        "  if score >= 80 and score < 100:\r\n",
        "    print(f'นักศึกษามีคะแนนเท่ากับ {score} คะแนน  ได้เกรด A')\r\n",
        "  if score >= 100 :\r\n",
        "    print(f'error ค่าคะแนนมากกว่า 100')"
      ],
      "execution_count": 25,
      "outputs": []
    },
    {
      "cell_type": "code",
      "metadata": {
        "id": "8jsJ9wyoItek",
        "outputId": "2834e572-3887-424a-fd42-355eb8053e78",
        "colab": {
          "base_uri": "https://localhost:8080/"
        }
      },
      "source": [
        "input = [1,50,65,90,101,-5,49]\r\n",
        "for score in input:\r\n",
        "  grade(score)"
      ],
      "execution_count": 26,
      "outputs": [
        {
          "output_type": "stream",
          "text": [
            "นักศึกษามีคะแนนเท่ากับ 1 คะแนน  ได้เกรด F\n",
            "นักศึกษามีคะแนนเท่ากับ 50 คะแนน  ได้เกรด D\n",
            "นักศึกษามีคะแนนเท่ากับ 65 คะแนน  ได้เกรด C+\n",
            "นักศึกษามีคะแนนเท่ากับ 90 คะแนน  ได้เกรด A\n",
            "error ค่าคะแนนมากกว่า 100\n",
            "error ค่าคะแนนต่ำกว่า 0\n",
            "นักศึกษามีคะแนนเท่ากับ 49 คะแนน  ได้เกรด F\n"
          ],
          "name": "stdout"
        }
      ]
    }
  ]
}