{
  "nbformat": 4,
  "nbformat_minor": 0,
  "metadata": {
    "colab": {
      "name": "Intro.ipynb",
      "provenance": [],
      "authorship_tag": "ABX9TyMaFRbD2I2dyEmJqY4qbGAL",
      "include_colab_link": true
    },
    "kernelspec": {
      "name": "python3",
      "display_name": "Python 3"
    }
  },
  "cells": [
    {
      "cell_type": "markdown",
      "metadata": {
        "id": "view-in-github",
        "colab_type": "text"
      },
      "source": [
        "<a href=\"https://colab.research.google.com/github/kanyaweeud/data_viz/blob/main/Intro.ipynb\" target=\"_parent\"><img src=\"https://colab.research.google.com/assets/colab-badge.svg\" alt=\"Open In Colab\"/></a>"
      ]
    },
    {
      "cell_type": "markdown",
      "metadata": {
        "id": "ctBQfnDGk5Iu"
      },
      "source": [
        "กัญญาวีร์ อุดม 613020610-8"
      ]
    },
    {
      "cell_type": "markdown",
      "metadata": {
        "id": "D0fRYGU_k-Ns"
      },
      "source": [
        "ภาษา Markdown\r\n",
        "\r\n",
        "# Markdown\r\n",
        "## Markdown\r\n",
        "~strike~ "
      ]
    },
    {
      "cell_type": "code",
      "metadata": {
        "colab": {
          "base_uri": "https://localhost:8080/"
        },
        "id": "xReBX-z6lNgd",
        "outputId": "42196c7b-1086-4ca6-b20b-90df0b3fddfe"
      },
      "source": [
        "print('กัญญาวีร์')"
      ],
      "execution_count": 1,
      "outputs": [
        {
          "output_type": "stream",
          "text": [
            "กัญญาวีร์\n"
          ],
          "name": "stdout"
        }
      ]
    }
  ]
}